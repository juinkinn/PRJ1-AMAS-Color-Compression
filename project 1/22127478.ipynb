{
 "cells": [
  {
   "cell_type": "markdown",
   "metadata": {},
   "source": [
    "# Project 01 - Color Compression"
   ]
  },
  {
   "cell_type": "markdown",
   "metadata": {},
   "source": [
    "## Thông tin sinh viên"
   ]
  },
  {
   "cell_type": "markdown",
   "metadata": {},
   "source": [
    "- Họ và tên: Nguyễn Hoàng Trung Kiên\n",
    "- MSSV: 22127478\n",
    "- Lớp: 22CLC08"
   ]
  },
  {
   "cell_type": "markdown",
   "metadata": {},
   "source": [
    "## Import các thư viện liên quan"
   ]
  },
  {
   "cell_type": "code",
   "execution_count": null,
   "metadata": {},
   "outputs": [],
   "source": [
    "from PIL import Image\n",
    "import numpy as np\n",
    "import matplotlib.pyplot as plt"
   ]
  },
  {
   "cell_type": "markdown",
   "metadata": {},
   "source": [
    "## Helper functions"
   ]
  },
  {
   "cell_type": "code",
   "execution_count": null,
   "metadata": {},
   "outputs": [],
   "source": [
    "def read_img(img_path):\n",
    "\n",
    "    '''\n",
    "    Read image from img_path\n",
    "\n",
    "    Parameters\n",
    "    ----------\n",
    "    img_path : str\n",
    "        Path of image\n",
    "\n",
    "    Returns\n",
    "    -------\n",
    "        Image (2D)\n",
    "    '''\n",
    "\n",
    "    # YOUR CODE HERE\n",
    "    img = Image.open(img_path)\n",
    "    img_2d = np.array(img)\n",
    "    return img_2d\n",
    "\n",
    "def show_img(img_2d):\n",
    "    '''\n",
    "    Show image\n",
    "\n",
    "    Parameters\n",
    "    ----------\n",
    "    img_2d : <your type>\n",
    "        Image (2D)\n",
    "    '''\n",
    "\n",
    "    # YOUR CODE HERE\n",
    "    plt.imshow(np.uint8(np.clip(img_2d, 0, 255)))\n",
    "    plt.show()\n",
    "    plt.close()\n",
    "\n",
    "def save_img(img_2d, img_path):\n",
    "    '''\n",
    "    Save image to img_path\n",
    "\n",
    "    Parameters\n",
    "    ----------\n",
    "    img_2d : <your type>\n",
    "        Image (2D)\n",
    "    img_path : str\n",
    "        Path of image\n",
    "    '''\n",
    "\n",
    "    # YOUR CODE HERE\n",
    "    img = Image.fromarray(np.uint8(img_2d))\n",
    "    # RGBA --> RGB if RBGA\n",
    "    if img.mode == 'RGBA':\n",
    "        img = img.convert('RGB')\n",
    "    # file extension\n",
    "    if img_path.lower().endswith('.png'):\n",
    "        img.save(img_path, \"PNG\")\n",
    "    elif img_path.lower().endswith(('.jpg', '.jpeg')):\n",
    "        img.save(img_path, \"JPEG\")\n",
    "    elif img_path.lower().endswith('.pdf'):\n",
    "        img.save(img_path, \"PDF\", resolution=100.0)\n",
    "\n",
    "def convert_img_to_1d(img_2d):\n",
    "    '''\n",
    "    Convert 2D image to 1D image\n",
    "\n",
    "    Parameters\n",
    "    ----------\n",
    "    img_2d : <your type>\n",
    "        Image (2D)\n",
    "\n",
    "    Returns\n",
    "    -------\n",
    "        Image (1D)\n",
    "    '''\n",
    "\n",
    "    # YOUR CODE HERE\n",
    "    height, width, channels = img_2d.shape\n",
    "    img_1d = img_2d.reshape((height * width, channels))\n",
    "    return img_1d\n",
    "\n",
    "\n",
    "\n",
    "def kmeans(img_1d, k_clusters, max_iter, init_centroids='random'):\n",
    "    '''\n",
    "    K-Means algorithm\n",
    "\n",
    "    Parameters\n",
    "    ----------\n",
    "    img_1d : np.ndarray with shape=(height * width, num_channels)\n",
    "        Original (1D) image\n",
    "    k_clusters : int\n",
    "        Number of clusters\n",
    "    max_iter : int\n",
    "        Max iterator\n",
    "    init_centroids : str, default='random'\n",
    "        The method used to initialize the centroids for K-means clustering\n",
    "        'random' --> Centroids are initialized with random values between 0 and 255 for each channel\n",
    "        'in_pixels' --> A random pixel from the original image is selected as a centroid for each cluster\n",
    "\n",
    "    Returns\n",
    "    -------\n",
    "    centroids : np.ndarray with shape=(k_clusters, num_channels)\n",
    "        Stores the color centroids for each cluster\n",
    "    labels : np.ndarray with shape=(height * width, )\n",
    "        Stores the cluster label for each pixel in the image\n",
    "    '''\n",
    "    \n",
    "    # YOUR CODE HERE\n",
    "    # Initialize centroids\n",
    "    if init_centroids == 'random':\n",
    "        centroids = np.random.randint(0, 256, (k_clusters, img_1d.shape[1]))\n",
    "    elif init_centroids == 'in_pixels':\n",
    "        random_idx = np.random.choice(img_1d.shape[0], k_clusters, replace=False).astype(int)\n",
    "        centroids = img_1d[random_idx]\n",
    "\n",
    "    for i in range(max_iter):\n",
    "        distances = np.sqrt(((img_1d[:, np.newaxis] - centroids)**2).sum(axis=2)) # Euclidean distance\n",
    "        labels = np.argmin(distances, axis=1)\n",
    "        new_centroids = np.array([img_1d[labels == j].mean(axis=0) if np.any(labels == j) else centroids[j] for j in range(k_clusters)])\n",
    "        # Check for convergence\n",
    "        if np.array_equal(centroids, new_centroids):\n",
    "            break\n",
    "        \n",
    "        centroids = new_centroids\n",
    "    return centroids, labels\n",
    "\n",
    "def generate_2d_img(img_2d_shape, centroids, labels):\n",
    "    '''\n",
    "    Generate a 2D image based on K-means cluster centroids\n",
    "\n",
    "    Parameters\n",
    "    ----------\n",
    "    img_2d_shape : tuple (height, width, 3)\n",
    "        Shape of image\n",
    "    centroids : np.ndarray with shape=(k_clusters, num_channels)\n",
    "        Store color centroids\n",
    "    labels : np.ndarray with shape=(height * width, )\n",
    "        Store label for pixels (cluster's index on which the pixel belongs)\n",
    "\n",
    "    Returns\n",
    "    -------\n",
    "        New image (2D)\n",
    "    '''\n",
    "\n",
    "    # YOUR CODE HERE\n",
    "    height, width, num_channels = img_2d_shape\n",
    "    labels_2d = labels.reshape((height, width)) # Reshape the labels\n",
    "    new_img_2d = centroids[labels_2d] # Assign centroid values to the new image\n",
    "    return new_img_2d\n",
    "\n",
    "\n",
    "# Your additional functions here\n"
   ]
  },
  {
   "attachments": {},
   "cell_type": "markdown",
   "metadata": {},
   "source": [
    "## Your tests"
   ]
  },
  {
   "cell_type": "code",
   "execution_count": null,
   "metadata": {},
   "outputs": [],
   "source": [
    "# YOUR CODE HERE"
   ]
  },
  {
   "cell_type": "markdown",
   "metadata": {},
   "source": [
    "## Main FUNCTION"
   ]
  },
  {
   "cell_type": "code",
   "execution_count": null,
   "metadata": {},
   "outputs": [],
   "source": [
    "# YOUR CODE HERE\n",
    "def main():\n",
    "    img_path = input(\"Enter the image file path: \")\n",
    "\n",
    "    img_2d = read_img(img_path)\n",
    "    img_1d = convert_img_to_1d(img_2d)\n",
    "\n",
    "    k_clusters = int(input(\"Enter number of clusters: \")) # K-means clustering\n",
    "    centroids_init = str(input(\"Enter init_centroids(random / in_pixels): \"))\n",
    "\n",
    "    max_iter = 100  # Maximum number of iterations\n",
    "    centroids, labels = kmeans(img_1d, k_clusters, max_iter, init_centroids= centroids_init)\n",
    "    new_img_2d = generate_2d_img(img_2d.shape, centroids, labels)\n",
    "\n",
    "    print(\"Original: \")\n",
    "    show_img(img_2d)\n",
    "    print(\"After being compressed: \")\n",
    "    show_img(new_img_2d)\n",
    "    \n",
    "    output_path = input(\"Enter the output file path (with .png, .pdf or .jpg extension): \")\n",
    "    save_img(new_img_2d, output_path)\n",
    "   "
   ]
  },
  {
   "cell_type": "code",
   "execution_count": null,
   "metadata": {},
   "outputs": [],
   "source": [
    "# Call main function\n",
    "if __name__ == \"__main__\":\n",
    "    main()"
   ]
  }
 ],
 "metadata": {
  "kernelspec": {
   "display_name": "Python 3",
   "language": "python",
   "name": "python3"
  },
  "language_info": {
   "codemirror_mode": {
    "name": "ipython",
    "version": 3
   },
   "file_extension": ".py",
   "mimetype": "text/x-python",
   "name": "python",
   "nbconvert_exporter": "python",
   "pygments_lexer": "ipython3",
   "version": "3.10.6"
  }
 },
 "nbformat": 4,
 "nbformat_minor": 4
}
